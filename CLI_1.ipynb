{
 "cells": [
  {
   "cell_type": "code",
   "execution_count": 3,
   "metadata": {},
   "outputs": [],
   "source": [
    "import pandas as pd\n",
    "import time \n",
    "import geocoder\n",
    "import numpy as np"
   ]
  },
  {
   "cell_type": "code",
   "execution_count": 4,
   "metadata": {},
   "outputs": [],
   "source": [
    "df=pd.read_csv('E:\\Project\\CLI_BB\\input_file_clients.csv')"
   ]
  },
  {
   "cell_type": "code",
   "execution_count": 7,
   "metadata": {},
   "outputs": [
    {
     "data": {
      "text/html": [
       "<div>\n",
       "<style scoped>\n",
       "    .dataframe tbody tr th:only-of-type {\n",
       "        vertical-align: middle;\n",
       "    }\n",
       "\n",
       "    .dataframe tbody tr th {\n",
       "        vertical-align: top;\n",
       "    }\n",
       "\n",
       "    .dataframe thead th {\n",
       "        text-align: right;\n",
       "    }\n",
       "</style>\n",
       "<table border=\"1\" class=\"dataframe\">\n",
       "  <thead>\n",
       "    <tr style=\"text-align: right;\">\n",
       "      <th></th>\n",
       "      <th>Email</th>\n",
       "      <th>First Name</th>\n",
       "      <th>Last Name</th>\n",
       "      <th>Residential Address Street</th>\n",
       "      <th>Residential Address Locality</th>\n",
       "      <th>Residential Address State</th>\n",
       "      <th>Residential Address Postcode</th>\n",
       "      <th>Postal Address Street</th>\n",
       "      <th>Postal Address Locality</th>\n",
       "      <th>Postal Address State</th>\n",
       "      <th>Postal Address Postcode</th>\n",
       "    </tr>\n",
       "  </thead>\n",
       "  <tbody>\n",
       "    <tr>\n",
       "      <th>5597</th>\n",
       "      <td>marcia@gmail.com</td>\n",
       "      <td>Phoenix</td>\n",
       "      <td>Wilson</td>\n",
       "      <td>84 Sam Terrace</td>\n",
       "      <td>ADDINGTON</td>\n",
       "      <td>VIC</td>\n",
       "      <td>3352</td>\n",
       "      <td>6598 Leo Street</td>\n",
       "      <td>ANNANGROVE</td>\n",
       "      <td>NSW</td>\n",
       "      <td>2156.0</td>\n",
       "    </tr>\n",
       "    <tr>\n",
       "      <th>7661</th>\n",
       "      <td>denita_goldner@yahoo.com</td>\n",
       "      <td>Leah</td>\n",
       "      <td>Beahan</td>\n",
       "      <td>6086 Lowe Mall</td>\n",
       "      <td>ASHBOURNE</td>\n",
       "      <td>VIC</td>\n",
       "      <td>3442</td>\n",
       "      <td>74 Emma Crescent</td>\n",
       "      <td>ARTARMON</td>\n",
       "      <td>NSW</td>\n",
       "      <td>2064.0</td>\n",
       "    </tr>\n",
       "    <tr>\n",
       "      <th>6900</th>\n",
       "      <td>maurice.hoppe@hotmail.com</td>\n",
       "      <td>Jasper</td>\n",
       "      <td>Collier</td>\n",
       "      <td>969 Muller Drive</td>\n",
       "      <td>ALMONDS</td>\n",
       "      <td>VIC</td>\n",
       "      <td>3727</td>\n",
       "      <td>2947 Jett Plaza</td>\n",
       "      <td>ALEXANDRA HEADLAND</td>\n",
       "      <td>QLD</td>\n",
       "      <td>4572.0</td>\n",
       "    </tr>\n",
       "    <tr>\n",
       "      <th>8580</th>\n",
       "      <td>glynis@gmail.com</td>\n",
       "      <td>Lucas</td>\n",
       "      <td>Goldner</td>\n",
       "      <td>12 Ryan Junction</td>\n",
       "      <td>ANNERLEY</td>\n",
       "      <td>QLD</td>\n",
       "      <td>4103</td>\n",
       "      <td>62 Larson Circle</td>\n",
       "      <td>AMBERGATE</td>\n",
       "      <td>WA</td>\n",
       "      <td>6280.0</td>\n",
       "    </tr>\n",
       "    <tr>\n",
       "      <th>2144</th>\n",
       "      <td>alvaro_mayert@hotmail.com</td>\n",
       "      <td>Amelia</td>\n",
       "      <td>Adams</td>\n",
       "      <td>20 Morrison Junction</td>\n",
       "      <td>ARAWATA</td>\n",
       "      <td>VIC</td>\n",
       "      <td>3951</td>\n",
       "      <td>202 Bartoletti Drive</td>\n",
       "      <td>ABINGTON</td>\n",
       "      <td>QLD</td>\n",
       "      <td>4660.0</td>\n",
       "    </tr>\n",
       "  </tbody>\n",
       "</table>\n",
       "</div>"
      ],
      "text/plain": [
       "                          Email First Name Last Name  \\\n",
       "5597           marcia@gmail.com    Phoenix    Wilson   \n",
       "7661   denita_goldner@yahoo.com       Leah    Beahan   \n",
       "6900  maurice.hoppe@hotmail.com     Jasper   Collier   \n",
       "8580           glynis@gmail.com      Lucas   Goldner   \n",
       "2144  alvaro_mayert@hotmail.com     Amelia     Adams   \n",
       "\n",
       "     Residential Address Street Residential Address Locality  \\\n",
       "5597             84 Sam Terrace                    ADDINGTON   \n",
       "7661             6086 Lowe Mall                    ASHBOURNE   \n",
       "6900           969 Muller Drive                      ALMONDS   \n",
       "8580           12 Ryan Junction                     ANNERLEY   \n",
       "2144       20 Morrison Junction                      ARAWATA   \n",
       "\n",
       "     Residential Address State Residential Address Postcode  \\\n",
       "5597                       VIC                         3352   \n",
       "7661                       VIC                         3442   \n",
       "6900                       VIC                         3727   \n",
       "8580                       QLD                         4103   \n",
       "2144                       VIC                         3951   \n",
       "\n",
       "     Postal Address Street Postal Address Locality Postal Address State  \\\n",
       "5597       6598 Leo Street              ANNANGROVE                  NSW   \n",
       "7661      74 Emma Crescent                ARTARMON                  NSW   \n",
       "6900       2947 Jett Plaza      ALEXANDRA HEADLAND                  QLD   \n",
       "8580      62 Larson Circle               AMBERGATE                   WA   \n",
       "2144  202 Bartoletti Drive                ABINGTON                  QLD   \n",
       "\n",
       "      Postal Address Postcode  \n",
       "5597                   2156.0  \n",
       "7661                   2064.0  \n",
       "6900                   4572.0  \n",
       "8580                   6280.0  \n",
       "2144                   4660.0  "
      ]
     },
     "execution_count": 7,
     "metadata": {},
     "output_type": "execute_result"
    }
   ],
   "source": [
    "df.sample(5)"
   ]
  },
  {
   "cell_type": "code",
   "execution_count": null,
   "metadata": {},
   "outputs": [],
   "source": [
    "df.dropna(inplace=True)\n",
    "\n",
    "df['Residential Address Postcode'] = df['Residential Address Postcode'].astype(str)\n",
    "df['Postal Address Postcode'] = df['Postal Address Postcode'].astype(str)\n",
    "df['Postal Address Postcode'] = df['Postal Address Postcode'].str.replace('.0', '')"
   ]
  },
  {
   "cell_type": "code",
   "execution_count": 4,
   "metadata": {},
   "outputs": [],
   "source": [
    "df['Residential Address Full']=df['Residential Address Locality'] + ', ' + df['Residential Address State'] + ', ' + df['Residential Address Postcode']\n",
    "\n",
    "df['Postal Address Full']=df['Postal Address Locality'] + ', ' + df['Postal Address State'] + ', ' + df['Postal Address Postcode']"
   ]
  },
  {
   "cell_type": "code",
   "execution_count": 5,
   "metadata": {},
   "outputs": [],
   "source": [
    "batch_size = 1000\n",
    "batches = [df['Residential Address Full'][i:i+batch_size] for i in range(0, len(df), batch_size)]"
   ]
  },
  {
   "cell_type": "code",
   "execution_count": 6,
   "metadata": {},
   "outputs": [],
   "source": [
    "def geocode_address(address):\n",
    "    num_retries = 0\n",
    "    retry=3\n",
    "    while num_retries < retry:\n",
    "        location = geocoder.osm(address)\n",
    "        try:\n",
    "            if location.ok:\n",
    "                return (location.lat, location.lng)\n",
    "            else:\n",
    "                print(f\"Failed to geocode address: {address}\")\n",
    "                return np.nan\n",
    "        except Exception as e:\n",
    "            num_retries += 1\n",
    "            time.sleep(0.5)\n",
    "            continue \n",
    "    print(f'failed after retry for this add, {address}')\n",
    "    return np.nan\n"
   ]
  },
  {
   "cell_type": "code",
   "execution_count": null,
   "metadata": {},
   "outputs": [],
   "source": [
    "results = []\n",
    "for i, batch in enumerate(batches):\n",
    "    batch_results = [geocode_address(address) for address in batch]\n",
    "    results.extend(batch_results)\n",
    "\n",
    "\n",
    "df['Residential co-ordinates'] = pd.Series(results)\n",
    "import warnings \n",
    "warnings.filterwarnings('ignore')"
   ]
  },
  {
   "cell_type": "code",
   "execution_count": 9,
   "metadata": {},
   "outputs": [],
   "source": [
    "df.to_csv('updated_file_clients.csv', index=False)"
   ]
  }
 ],
 "metadata": {
  "kernelspec": {
   "display_name": "Python 3",
   "language": "python",
   "name": "python3"
  },
  "language_info": {
   "codemirror_mode": {
    "name": "ipython",
    "version": 3
   },
   "file_extension": ".py",
   "mimetype": "text/x-python",
   "name": "python",
   "nbconvert_exporter": "python",
   "pygments_lexer": "ipython3",
   "version": "3.11.4"
  }
 },
 "nbformat": 4,
 "nbformat_minor": 2
}
