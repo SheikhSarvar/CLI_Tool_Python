{
 "cells": [
  {
   "cell_type": "code",
   "execution_count": 2,
   "metadata": {},
   "outputs": [],
   "source": [
    "import pandas as pd\n",
    "import time \n",
    "import geocoder\n",
    "import numpy as np"
   ]
  },
  {
   "cell_type": "code",
   "execution_count": 3,
   "metadata": {},
   "outputs": [],
   "source": [
    "df=pd.read_csv('E:\\Project\\CLI_BB\\output_file.csv')"
   ]
  },
  {
   "cell_type": "code",
   "execution_count": 44,
   "metadata": {},
   "outputs": [
    {
     "data": {
      "text/plain": [
       "(19, 13)"
      ]
     },
     "execution_count": 44,
     "metadata": {},
     "output_type": "execute_result"
    }
   ],
   "source": [
    "df.shape"
   ]
  },
  {
   "cell_type": "code",
   "execution_count": 4,
   "metadata": {},
   "outputs": [
    {
     "data": {
      "text/html": [
       "<div>\n",
       "<style scoped>\n",
       "    .dataframe tbody tr th:only-of-type {\n",
       "        vertical-align: middle;\n",
       "    }\n",
       "\n",
       "    .dataframe tbody tr th {\n",
       "        vertical-align: top;\n",
       "    }\n",
       "\n",
       "    .dataframe thead th {\n",
       "        text-align: right;\n",
       "    }\n",
       "</style>\n",
       "<table border=\"1\" class=\"dataframe\">\n",
       "  <thead>\n",
       "    <tr style=\"text-align: right;\">\n",
       "      <th></th>\n",
       "      <th>Email</th>\n",
       "      <th>First Name</th>\n",
       "      <th>Last Name</th>\n",
       "      <th>Residential Address Street</th>\n",
       "      <th>Residential Address Locality</th>\n",
       "      <th>Residential Address State</th>\n",
       "      <th>Residential Address Postcode</th>\n",
       "      <th>Postal Address Street</th>\n",
       "      <th>Postal Address Locality</th>\n",
       "      <th>Postal Address State</th>\n",
       "      <th>Postal Address Postcode</th>\n",
       "      <th>Postal_co-ordinates</th>\n",
       "      <th>Residential_co-ordinates</th>\n",
       "    </tr>\n",
       "  </thead>\n",
       "  <tbody>\n",
       "    <tr>\n",
       "      <th>0</th>\n",
       "      <td>colton_tromp@gmail.com</td>\n",
       "      <td>Darcy</td>\n",
       "      <td>Waters</td>\n",
       "      <td>8540 Charli Summit</td>\n",
       "      <td>AIRLIE BEACH</td>\n",
       "      <td>QLD</td>\n",
       "      <td>4802</td>\n",
       "      <td>376 Williamson Hill</td>\n",
       "      <td>ARTHUR RIVER</td>\n",
       "      <td>WA</td>\n",
       "      <td>6315</td>\n",
       "      <td>(-20.272494000000002, 148.71814657732955)</td>\n",
       "      <td>(-33.3441135, 117.01571419732676)</td>\n",
       "    </tr>\n",
       "    <tr>\n",
       "      <th>1</th>\n",
       "      <td>lindsay_bradtke@gmail.com</td>\n",
       "      <td>Georgia</td>\n",
       "      <td>Stewart</td>\n",
       "      <td>650 Harris Summit</td>\n",
       "      <td>ARCTURUS</td>\n",
       "      <td>QLD</td>\n",
       "      <td>4722</td>\n",
       "      <td>477 Jasmine Circle</td>\n",
       "      <td>ALDINGA</td>\n",
       "      <td>SA</td>\n",
       "      <td>5173</td>\n",
       "      <td>(-23.975732999999998, 148.32711448169016)</td>\n",
       "      <td>(-35.2673234, 138.4831296)</td>\n",
       "    </tr>\n",
       "    <tr>\n",
       "      <th>2</th>\n",
       "      <td>jaime_kuphal@yahoo.com</td>\n",
       "      <td>Joshua</td>\n",
       "      <td>Schmidt</td>\n",
       "      <td>53 Klein Circle</td>\n",
       "      <td>AMBLESIDE</td>\n",
       "      <td>TAS</td>\n",
       "      <td>7310</td>\n",
       "      <td>2979 Anthony Drive</td>\n",
       "      <td>AMOR</td>\n",
       "      <td>VIC</td>\n",
       "      <td>3825</td>\n",
       "      <td>(-41.2050163, 146.3748003)</td>\n",
       "      <td>(-37.939795000000004, 146.4046230412041)</td>\n",
       "    </tr>\n",
       "    <tr>\n",
       "      <th>3</th>\n",
       "      <td>odell.king@hotmail.com</td>\n",
       "      <td>Natalie</td>\n",
       "      <td>Smith</td>\n",
       "      <td>545 Summer Avenue</td>\n",
       "      <td>ALVIE</td>\n",
       "      <td>VIC</td>\n",
       "      <td>3249</td>\n",
       "      <td>5454 Koss Track</td>\n",
       "      <td>ANABRANCH SOUTH</td>\n",
       "      <td>NSW</td>\n",
       "      <td>2648</td>\n",
       "      <td>(-38.2441811, 143.5155992)</td>\n",
       "      <td>(-33.6929151, 141.7057254)</td>\n",
       "    </tr>\n",
       "    <tr>\n",
       "      <th>4</th>\n",
       "      <td>carlos@hotmail.com</td>\n",
       "      <td>Cameron</td>\n",
       "      <td>Schneider</td>\n",
       "      <td>46 Becker Summit</td>\n",
       "      <td>ALLANSFORD</td>\n",
       "      <td>VIC</td>\n",
       "      <td>3277</td>\n",
       "      <td>3137 Lakin Station St</td>\n",
       "      <td>ALLANS FLAT</td>\n",
       "      <td>VIC</td>\n",
       "      <td>3691</td>\n",
       "      <td>(-38.3862028, 142.6001551)</td>\n",
       "      <td>(-36.2944155, 146.94292341122937)</td>\n",
       "    </tr>\n",
       "  </tbody>\n",
       "</table>\n",
       "</div>"
      ],
      "text/plain": [
       "                       Email First Name  Last Name Residential Address Street  \\\n",
       "0     colton_tromp@gmail.com      Darcy     Waters         8540 Charli Summit   \n",
       "1  lindsay_bradtke@gmail.com    Georgia    Stewart          650 Harris Summit   \n",
       "2     jaime_kuphal@yahoo.com     Joshua    Schmidt            53 Klein Circle   \n",
       "3     odell.king@hotmail.com    Natalie      Smith          545 Summer Avenue   \n",
       "4         carlos@hotmail.com    Cameron  Schneider           46 Becker Summit   \n",
       "\n",
       "  Residential Address Locality Residential Address State  \\\n",
       "0                 AIRLIE BEACH                       QLD   \n",
       "1                     ARCTURUS                       QLD   \n",
       "2                    AMBLESIDE                       TAS   \n",
       "3                        ALVIE                       VIC   \n",
       "4                   ALLANSFORD                       VIC   \n",
       "\n",
       "   Residential Address Postcode  Postal Address Street  \\\n",
       "0                          4802    376 Williamson Hill   \n",
       "1                          4722     477 Jasmine Circle   \n",
       "2                          7310     2979 Anthony Drive   \n",
       "3                          3249        5454 Koss Track   \n",
       "4                          3277  3137 Lakin Station St   \n",
       "\n",
       "  Postal Address Locality Postal Address State  Postal Address Postcode  \\\n",
       "0            ARTHUR RIVER                   WA                     6315   \n",
       "1                 ALDINGA                   SA                     5173   \n",
       "2                    AMOR                  VIC                     3825   \n",
       "3         ANABRANCH SOUTH                  NSW                     2648   \n",
       "4             ALLANS FLAT                  VIC                     3691   \n",
       "\n",
       "                         Postal_co-ordinates  \\\n",
       "0  (-20.272494000000002, 148.71814657732955)   \n",
       "1  (-23.975732999999998, 148.32711448169016)   \n",
       "2                 (-41.2050163, 146.3748003)   \n",
       "3                 (-38.2441811, 143.5155992)   \n",
       "4                 (-38.3862028, 142.6001551)   \n",
       "\n",
       "                   Residential_co-ordinates  \n",
       "0         (-33.3441135, 117.01571419732676)  \n",
       "1                (-35.2673234, 138.4831296)  \n",
       "2  (-37.939795000000004, 146.4046230412041)  \n",
       "3                (-33.6929151, 141.7057254)  \n",
       "4         (-36.2944155, 146.94292341122937)  "
      ]
     },
     "execution_count": 4,
     "metadata": {},
     "output_type": "execute_result"
    }
   ],
   "source": [
    "df.head()"
   ]
  },
  {
   "cell_type": "code",
   "execution_count": null,
   "metadata": {},
   "outputs": [],
   "source": [
    "df.dropna(inplace=True)\n",
    "\n",
    "df['Residential Address Postcode'] = df['Residential Address Postcode'].astype(str)\n",
    "df['Postal Address Postcode'] = df['Postal Address Postcode'].astype(str)\n",
    "df['Postal Address Postcode'] = df['Postal Address Postcode'].str.replace('.0', '')"
   ]
  },
  {
   "cell_type": "code",
   "execution_count": null,
   "metadata": {},
   "outputs": [],
   "source": [
    "df['Residential Address Full']=df['Residential Address Locality'] + ', ' + df['Residential Address State'] + ', ' + df['Residential Address Postcode']\n",
    "\n",
    "df['Postal Address Full']=df['Postal Address Locality'] + ', ' + df['Postal Address State'] + ', ' + df['Postal Address Postcode']"
   ]
  },
  {
   "cell_type": "code",
   "execution_count": null,
   "metadata": {},
   "outputs": [],
   "source": [
    "batch_size = 1000\n",
    "batches = [df['Residential Address Full'][i:i+batch_size] for i in range(0, len(df), batch_size)]"
   ]
  },
  {
   "cell_type": "code",
   "execution_count": null,
   "metadata": {},
   "outputs": [],
   "source": [
    "def geocode_address(address):\n",
    "    num_retries = 0\n",
    "    retry=3\n",
    "    while num_retries < retry:\n",
    "        location = geocoder.osm(address)\n",
    "        try:\n",
    "            if location.ok:\n",
    "                return (location.lat, location.lng)\n",
    "            else:\n",
    "                print(f\"Failed to geocode address: {address}\")\n",
    "                return np.nan\n",
    "        except Exception as e:\n",
    "            num_retries += 1\n",
    "            time.sleep(0.5)\n",
    "            continue \n",
    "    print(f'failed after retry for this add, {address}')\n",
    "    return np.nan\n"
   ]
  },
  {
   "cell_type": "code",
   "execution_count": null,
   "metadata": {},
   "outputs": [],
   "source": [
    "results = []\n",
    "for i, batch in enumerate(batches):\n",
    "    batch_results = [geocode_address(address) for address in batch]\n",
    "    results.extend(batch_results)\n",
    "\n",
    "\n",
    "df['Residential co-ordinates'] = pd.Series(results)\n",
    "import warnings \n",
    "warnings.filterwarnings('ignore')"
   ]
  },
  {
   "cell_type": "code",
   "execution_count": null,
   "metadata": {},
   "outputs": [],
   "source": [
    "df.to_csv('updated_file_clients.csv', index=False)"
   ]
  }
 ],
 "metadata": {
  "kernelspec": {
   "display_name": "Python 3",
   "language": "python",
   "name": "python3"
  },
  "language_info": {
   "codemirror_mode": {
    "name": "ipython",
    "version": 3
   },
   "file_extension": ".py",
   "mimetype": "text/x-python",
   "name": "python",
   "nbconvert_exporter": "python",
   "pygments_lexer": "ipython3",
   "version": "3.11.4"
  }
 },
 "nbformat": 4,
 "nbformat_minor": 2
}
